{
 "cells": [
  {
   "cell_type": "code",
   "execution_count": null,
   "metadata": {},
   "outputs": [],
   "source": [
    "import whisper\n",
    "\n",
    "model = whisper.load_model(\"base\")\n",
    "result = model.transcribe(\"esp.m4a\")\n",
    "print(result[\"text\"])"
   ]
  },
  {
   "cell_type": "code",
   "execution_count": null,
   "metadata": {},
   "outputs": [],
   "source": [
    "result[\"language\"]"
   ]
  },
  {
   "cell_type": "code",
   "execution_count": 1,
   "metadata": {},
   "outputs": [],
   "source": [
    "from difflib import SequenceMatcher\n",
    "from summarizer import TransformerSummarizer\n",
    "from openie import StanfordOpenIE\n",
    "import spacy\n",
    "import whisper"
   ]
  },
  {
   "cell_type": "code",
   "execution_count": null,
   "metadata": {},
   "outputs": [],
   "source": [
    "from openie import StanfordOpenIE\n",
    "\n",
    "properties = {\n",
    "        'openie.affinity_probability_cap': 2/3,\n",
    "    }\n",
    "with StanfordOpenIE(properties=properties) as stanford_openie:\n",
    "    stanford_openie.annotate(\"Mr. President and gentlemen of the Board of Directors and citizens, one third of the population of the south is of the Negro Ring. The answer from the friendlevelse once came back, cast down your bucket where you are. Those of my race, who depend on settling their conditions in a foreign land or who under that estimate the importance of captivating friendrelations of the southern white man, who is their next door neighbor, I would say, cast down your bucket where you are. Cast down your bucket where you are.\")"
   ]
  }
 ],
 "metadata": {
  "kernelspec": {
   "display_name": "Python 3",
   "language": "python",
   "name": "python3"
  },
  "language_info": {
   "codemirror_mode": {
    "name": "ipython",
    "version": 3
   },
   "file_extension": ".py",
   "mimetype": "text/x-python",
   "name": "python",
   "nbconvert_exporter": "python",
   "pygments_lexer": "ipython3",
   "version": "3.10.0"
  },
  "orig_nbformat": 4
 },
 "nbformat": 4,
 "nbformat_minor": 2
}
